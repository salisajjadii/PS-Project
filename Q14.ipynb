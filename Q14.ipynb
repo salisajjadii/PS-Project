{
 "cells": [
  {
   "cell_type": "markdown",
   "metadata": {},
   "source": [
    "# Project - Statistics and Probability"
   ]
  },
  {
   "cell_type": "markdown",
   "metadata": {},
   "source": [
    "### Instructor: Dr. Yassaee"
   ]
  },
  {
   "cell_type": "markdown",
   "metadata": {},
   "source": [
    "### Seyed Ali Sajjadi - 401101813\n",
    "\n",
    "### Mahdi Gholizade kalan - 401102337"
   ]
  },
  {
   "cell_type": "markdown",
   "metadata": {},
   "source": [
    "Simulation Question 14:"
   ]
  },
  {
   "cell_type": "code",
   "execution_count": 42,
   "metadata": {},
   "outputs": [
    {
     "name": "stdout",
     "output_type": "stream",
     "text": [
      "For the probability P[Xi = 1]=0.5  &  P[Xi = -1]=0.5  &  M=5\n",
      "f(0) = 0.0182\n",
      "In n=1000 steps...\n",
      "He goes to -1 before 5 for 182 times.\n"
     ]
    }
   ],
   "source": [
    "import random\n",
    "\n",
    "M = 5\n",
    "cLoc = 0\n",
    "countAx = 0\n",
    "mList = [-1, 1]\n",
    "for i in range(0, 1000):\n",
    "    for j in range(0, 1000):\n",
    "        cLoc += random.choice(mList)\n",
    "        if cLoc == -1:\n",
    "            countAx += 1\n",
    "            break\n",
    "        if cLoc == M:\n",
    "            break\n",
    "\n",
    "print(f\"For the probability P[Xi = 1]=0.5  &  P[Xi = -1]=0.5  &  M={M}\")\n",
    "print(f\"f(0) = {countAx/10000}\")\n",
    "print(\"In n=1000 steps...\")\n",
    "print(f\"He goes to -1 before {M} for {countAx} times.\")\n"
   ]
  },
  {
   "cell_type": "code",
   "execution_count": 43,
   "metadata": {},
   "outputs": [
    {
     "name": "stdout",
     "output_type": "stream",
     "text": [
      "For the probability P[Xi = 1]=0.5  &  P[Xi = -1]=0.5  &  M=10\n",
      "f(0) = 0.0366\n",
      "In n=1000 steps...\n",
      "He goes to -1 before 10 for 366 times.\n"
     ]
    }
   ],
   "source": [
    "import random\n",
    "\n",
    "M = 10\n",
    "cLoc = 0\n",
    "countAx = 0\n",
    "mList = [-1, 1]\n",
    "for i in range(0, 1000):\n",
    "    for j in range(0, 1000):\n",
    "        cLoc += random.choice(mList)\n",
    "        if cLoc == -1:\n",
    "            countAx += 1\n",
    "            break\n",
    "        if cLoc == M:\n",
    "            break\n",
    "\n",
    "print(f\"For the probability P[Xi = 1]=0.5  &  P[Xi = -1]=0.5  &  M={M}\")\n",
    "print(f\"f(0) = {countAx/10000}\")\n",
    "print(\"In n=1000 steps...\")\n",
    "print(f\"He goes to -1 before {M} for {countAx} times.\")"
   ]
  },
  {
   "cell_type": "code",
   "execution_count": 44,
   "metadata": {},
   "outputs": [
    {
     "name": "stdout",
     "output_type": "stream",
     "text": [
      "For the probability P[Xi = 1]=0.5  &  P[Xi = -1]=0.5  &  M=15\n",
      "f(0) = 0.0232\n",
      "In n=1000 steps...\n",
      "He goes to -1 before 15 for 232 times.\n"
     ]
    }
   ],
   "source": [
    "import random\n",
    "\n",
    "M = 15\n",
    "cLoc = 0\n",
    "countAx = 0\n",
    "mList = [-1, 1]\n",
    "for i in range(0, 1000):\n",
    "    for j in range(0, 1000):\n",
    "        cLoc += random.choice(mList)\n",
    "        if cLoc == -1:\n",
    "            countAx += 1\n",
    "            break\n",
    "        if cLoc == M:\n",
    "            break\n",
    "\n",
    "print(f\"For the probability P[Xi = 1]=0.5  &  P[Xi = -1]=0.5  &  M={M}\")\n",
    "print(f\"f(0) = {countAx/10000}\")\n",
    "print(\"In n=1000 steps...\")\n",
    "print(f\"He goes to -1 before {M} for {countAx} times.\")"
   ]
  },
  {
   "cell_type": "code",
   "execution_count": 45,
   "metadata": {},
   "outputs": [
    {
     "name": "stdout",
     "output_type": "stream",
     "text": [
      "For the probability P[Xi = 1]=0.5  &  P[Xi = -1]=0.5  &  M=25\n",
      "f(0) = 0.0596\n",
      "In n=1000 steps...\n",
      "He goes to -1 before 25 for 596 times.\n"
     ]
    }
   ],
   "source": [
    "import random\n",
    "\n",
    "M = 25\n",
    "cLoc = 0\n",
    "countAx = 0\n",
    "mList = [-1, 1]\n",
    "for i in range(0, 1000):\n",
    "    for j in range(0, 1000):\n",
    "        cLoc += random.choice(mList)\n",
    "        if cLoc == -1:\n",
    "            countAx += 1\n",
    "            break\n",
    "        if cLoc == M:\n",
    "            break\n",
    "\n",
    "print(f\"For the probability P[Xi = 1]=0.5  &  P[Xi = -1]=0.5  &  M={M}\")\n",
    "print(f\"f(0) = {countAx/10000}\")\n",
    "print(\"In n=1000 steps...\")\n",
    "print(f\"He goes to -1 before {M} for {countAx} times.\")"
   ]
  },
  {
   "cell_type": "code",
   "execution_count": 46,
   "metadata": {},
   "outputs": [
    {
     "name": "stdout",
     "output_type": "stream",
     "text": [
      "For the probability P[Xi = 1]=0.5  &  P[Xi = -1]=0.5  &  M=30\n",
      "f(0) = 0.0077\n",
      "In n=1000 steps...\n",
      "He goes to -1 before 30 for 77 times.\n"
     ]
    }
   ],
   "source": [
    "import random\n",
    "\n",
    "M = 30\n",
    "cLoc = 0\n",
    "countAx = 0\n",
    "mList = [-1, 1]\n",
    "for i in range(0, 1000):\n",
    "    for j in range(0, 1000):\n",
    "        cLoc += random.choice(mList)\n",
    "        if cLoc == -1:\n",
    "            countAx += 1\n",
    "            break\n",
    "        if cLoc == M:\n",
    "            break\n",
    "\n",
    "print(f\"For the probability P[Xi = 1]=0.5  &  P[Xi = -1]=0.5  &  M={M}\")\n",
    "print(f\"f(0) = {countAx/10000}\")\n",
    "print(\"In n=1000 steps...\")\n",
    "print(f\"He goes to -1 before {M} for {countAx} times.\")"
   ]
  }
 ],
 "metadata": {
  "kernelspec": {
   "display_name": "Python 3",
   "language": "python",
   "name": "python3"
  },
  "language_info": {
   "codemirror_mode": {
    "name": "ipython",
    "version": 3
   },
   "file_extension": ".py",
   "mimetype": "text/x-python",
   "name": "python",
   "nbconvert_exporter": "python",
   "pygments_lexer": "ipython3",
   "version": "3.12.1"
  }
 },
 "nbformat": 4,
 "nbformat_minor": 2
}
