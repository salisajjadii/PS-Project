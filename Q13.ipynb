{
 "cells": [
  {
   "cell_type": "markdown",
   "metadata": {},
   "source": [
    "# Project - Statistics and Probability"
   ]
  },
  {
   "cell_type": "markdown",
   "metadata": {},
   "source": [
    "### Instructor: Dr. Yassaee"
   ]
  },
  {
   "cell_type": "markdown",
   "metadata": {},
   "source": [
    "### Seyed Ali Sajjadi - 401101813\n",
    "\n",
    "### Mahdi Gholizade kalan - 401102337"
   ]
  },
  {
   "cell_type": "markdown",
   "metadata": {},
   "source": [
    "Simulation Question 13:"
   ]
  },
  {
   "cell_type": "markdown",
   "metadata": {},
   "source": [
    "Part1:"
   ]
  },
  {
   "cell_type": "code",
   "execution_count": 60,
   "metadata": {},
   "outputs": [
    {
     "name": "stdout",
     "output_type": "stream",
     "text": [
      "For the probability P[Xi = 1]=0.5  &  P[Xi = -1]=0.5\n",
      "P[returns to 0] = 0.1282\n",
      "In n=100 steps...\n",
      "He returns to 0 for 1282 times.\n"
     ]
    }
   ],
   "source": [
    "import random\n",
    "\n",
    "cLoc = 0\n",
    "count0 = 0\n",
    "mList = [-1, 1]\n",
    "for i in range(0, 10000):\n",
    "    for j in range(0, 100):\n",
    "        cLoc += random.choice(mList)\n",
    "        if cLoc == 0:\n",
    "            count0 += 1\n",
    "            break\n",
    "\n",
    "print(\"For the probability P[Xi = 1]=0.5  &  P[Xi = -1]=0.5\")\n",
    "print(f\"P[returns to 0] = {count0/10000}\")\n",
    "print(\"In n=100 steps...\")\n",
    "print(f\"He returns to 0 for {count0} times.\")\n"
   ]
  },
  {
   "cell_type": "code",
   "execution_count": 61,
   "metadata": {},
   "outputs": [
    {
     "name": "stdout",
     "output_type": "stream",
     "text": [
      "For the probability P[Xi = 1]=0.5  &  P[Xi = -1]=0.5\n",
      "P[returns to 0] = 0.0446\n",
      "In n=1000 steps...\n",
      "He returns to 0 for 446 times.\n"
     ]
    }
   ],
   "source": [
    "import random\n",
    "\n",
    "cLoc = 0\n",
    "count0 = 0\n",
    "mList = [-1, 1]\n",
    "for i in range(0, 10000):\n",
    "    for j in range(0, 1000):\n",
    "        cLoc += random.choice(mList)\n",
    "        if cLoc == 0:\n",
    "            count0 += 1\n",
    "            break\n",
    "\n",
    "print(\"For the probability P[Xi = 1]=0.5  &  P[Xi = -1]=0.5\")\n",
    "print(f\"P[returns to 0] = {count0/10000}\")\n",
    "print(\"In n=1000 steps...\")\n",
    "print(f\"He returns to 0 for {count0} times.\")"
   ]
  },
  {
   "cell_type": "code",
   "execution_count": 62,
   "metadata": {},
   "outputs": [
    {
     "name": "stdout",
     "output_type": "stream",
     "text": [
      "For the probability P[Xi = 1]=0.5  &  P[Xi = -1]=0.5\n",
      "P[returns to 0] = 0.607\n",
      "In n=10000 steps...\n",
      "He returns to 0 for 6070 times.\n"
     ]
    }
   ],
   "source": [
    "import random\n",
    "\n",
    "cLoc = 0\n",
    "count0 = 0\n",
    "mList = [-1, 1]\n",
    "for i in range(0, 10000):\n",
    "    for j in range(0, 10000):\n",
    "        cLoc += random.choice(mList)\n",
    "        if cLoc == 0:\n",
    "            count0 += 1\n",
    "            break\n",
    "\n",
    "print(\"For the probability P[Xi = 1]=0.5  &  P[Xi = -1]=0.5\")\n",
    "print(f\"P[returns to 0] = {count0/10000}\")\n",
    "print(\"In n=10000 steps...\")\n",
    "print(f\"He returns to 0 for {count0} times.\")"
   ]
  },
  {
   "cell_type": "markdown",
   "metadata": {},
   "source": [
    "Part2:"
   ]
  },
  {
   "cell_type": "code",
   "execution_count": 63,
   "metadata": {},
   "outputs": [
    {
     "name": "stdout",
     "output_type": "stream",
     "text": [
      "For the probability P[Xi = 1]=0.66  &  P[Xi = -1]=0.33\n",
      "P[returns to 0] = 0.0\n",
      "In n=100 steps...\n",
      "He returns to 0 for 0 times.\n"
     ]
    }
   ],
   "source": [
    "import random\n",
    "\n",
    "cLoc = 0\n",
    "count0 = 0\n",
    "mList = [-1, 1, 1]\n",
    "for i in range(0, 10000):\n",
    "    for j in range(0, 100):\n",
    "        cLoc += random.choice(mList)\n",
    "        if cLoc == 0:\n",
    "            count0 += 1\n",
    "            break\n",
    "\n",
    "print(\"For the probability P[Xi = 1]=0.66  &  P[Xi = -1]=0.33\")\n",
    "print(f\"P[returns to 0] = {count0/10000}\")\n",
    "print(\"In n=100 steps...\")\n",
    "print(f\"He returns to 0 for {count0} times.\")"
   ]
  },
  {
   "cell_type": "code",
   "execution_count": 64,
   "metadata": {},
   "outputs": [
    {
     "name": "stdout",
     "output_type": "stream",
     "text": [
      "For the probability P[Xi = 1]=0.66  &  P[Xi = -1]=0.33\n",
      "P[returns to 0] = 0.0002\n",
      "In n=1000 steps...\n",
      "He returns to 0 for 2 times.\n"
     ]
    }
   ],
   "source": [
    "import random\n",
    "\n",
    "cLoc = 0\n",
    "count0 = 0\n",
    "mList = [-1, 1, 1]\n",
    "for i in range(0, 10000):\n",
    "    for j in range(0, 1000):\n",
    "        cLoc += random.choice(mList)\n",
    "        if cLoc == 0:\n",
    "            count0 += 1\n",
    "            break\n",
    "\n",
    "print(\"For the probability P[Xi = 1]=0.66  &  P[Xi = -1]=0.33\")\n",
    "print(f\"P[returns to 0] = {count0/10000}\")\n",
    "print(\"In n=1000 steps...\")\n",
    "print(f\"He returns to 0 for {count0} times.\")"
   ]
  },
  {
   "cell_type": "code",
   "execution_count": 65,
   "metadata": {},
   "outputs": [
    {
     "name": "stdout",
     "output_type": "stream",
     "text": [
      "For the probability P[Xi = 1]=0.66  &  P[Xi = -1]=0.33\n",
      "P[returns to 0] = 0.0001\n",
      "In n=10000 steps...\n",
      "He returns to 0 for 1 times.\n"
     ]
    }
   ],
   "source": [
    "import random\n",
    "\n",
    "cLoc = 0\n",
    "count0 = 0\n",
    "mList = [-1, 1, 1]\n",
    "for i in range(0, 10000):\n",
    "    for j in range(0, 10000):\n",
    "        cLoc += random.choice(mList)\n",
    "        if cLoc == 0:\n",
    "            count0 += 1\n",
    "            break\n",
    "\n",
    "print(\"For the probability P[Xi = 1]=0.66  &  P[Xi = -1]=0.33\")\n",
    "print(f\"P[returns to 0] = {count0/10000}\")\n",
    "print(\"In n=10000 steps...\")\n",
    "print(f\"He returns to 0 for {count0} times.\")"
   ]
  }
 ],
 "metadata": {
  "kernelspec": {
   "display_name": "Python 3",
   "language": "python",
   "name": "python3"
  },
  "language_info": {
   "codemirror_mode": {
    "name": "ipython",
    "version": 3
   },
   "file_extension": ".py",
   "mimetype": "text/x-python",
   "name": "python",
   "nbconvert_exporter": "python",
   "pygments_lexer": "ipython3",
   "version": "3.12.1"
  }
 },
 "nbformat": 4,
 "nbformat_minor": 2
}
