{
 "cells": [
  {
   "cell_type": "markdown",
   "metadata": {},
   "source": [
    "# Project - Statistics and Probability"
   ]
  },
  {
   "cell_type": "markdown",
   "metadata": {},
   "source": [
    "### Instructor: Dr. Yassaee"
   ]
  },
  {
   "cell_type": "markdown",
   "metadata": {},
   "source": [
    "### Seyed Ali Sajjadi - 401101813\n",
    "\n",
    "### Mahdi Gholizade kalan - 401102337"
   ]
  },
  {
   "cell_type": "markdown",
   "metadata": {},
   "source": [
    "Simulation Question 9:"
   ]
  },
  {
   "cell_type": "markdown",
   "metadata": {},
   "source": [
    "Part1:"
   ]
  },
  {
   "cell_type": "code",
   "execution_count": 237,
   "metadata": {},
   "outputs": [
    {
     "name": "stdout",
     "output_type": "stream",
     "text": [
      "The number of times that returns to position (0) or less than (0) is -> 0\n",
      "\n",
      "With the N=1000 simulations and n=100 movings  (movings ~ N(5, 1))\n"
     ]
    }
   ],
   "source": [
    "import numpy as np\n",
    "\n",
    "currentLocation = 0\n",
    "count = 0\n",
    "\n",
    "for i in range(0,1000):\n",
    "    for j in range(0, 100):\n",
    "        randomNumbers = np.random.normal(5, 1)\n",
    "        currentLocation += randomNumbers\n",
    "        if currentLocation <= 0:\n",
    "            count += 1\n",
    "            break\n",
    "\n",
    "print(f\"The number of times that returns to position (0) or less than (0) is -> {count}\")\n",
    "print()\n",
    "print(\"With the N=1000 simulations and n=100 movings  (movings ~ N(5, 1))\")"
   ]
  },
  {
   "cell_type": "markdown",
   "metadata": {},
   "source": [
    "Part2:"
   ]
  },
  {
   "cell_type": "code",
   "execution_count": 270,
   "metadata": {},
   "outputs": [
    {
     "name": "stdout",
     "output_type": "stream",
     "text": [
      "The number of times that returns to position (0) or less than (0) is -> 0\n",
      "\n",
      "With the N=1000 simulations and n=100 movings  (movings ~ N(2, 5))\n"
     ]
    }
   ],
   "source": [
    "import numpy as np\n",
    "\n",
    "currentLocation = 0\n",
    "count = 0\n",
    "\n",
    "for i in range(0,1000):\n",
    "    for j in range(0, 100):\n",
    "        randomNumbers = np.random.normal(2, 5)\n",
    "        currentLocation += randomNumbers\n",
    "        if currentLocation <= 0:\n",
    "            count += 1\n",
    "            break\n",
    "\n",
    "print(f\"The number of times that returns to position (0) or less than (0) is -> {count}\")\n",
    "print()\n",
    "print(\"With the N=1000 simulations and n=100 movings  (movings ~ N(2, 5))\")"
   ]
  },
  {
   "cell_type": "markdown",
   "metadata": {},
   "source": [
    "Part3:"
   ]
  },
  {
   "cell_type": "code",
   "execution_count": 225,
   "metadata": {},
   "outputs": [
    {
     "name": "stdout",
     "output_type": "stream",
     "text": [
      "E[Rn]/n = 1.0 = P[never returns to 0]\n",
      "\n",
      "n=100 movings  (movings ~ N(5, 1))\n"
     ]
    }
   ],
   "source": [
    "import numpy as np\n",
    "\n",
    "RnList = []\n",
    "shitList = []\n",
    "currentLocation = 0\n",
    "\n",
    "def unique(list1):\n",
    "    unique_list = []\n",
    "    for x in list1:\n",
    "        if x not in unique_list:\n",
    "            unique_list.append(x)\n",
    "    return unique_list\n",
    "\n",
    "for i in range(0, 100):\n",
    "    currentLocation = 0\n",
    "    randomNumbers = np.random.normal(5, 1, i)\n",
    "    currentLocation += sum(randomNumbers)\n",
    "    shitList.append(currentLocation)\n",
    "\n",
    "for i in range(0, 100):\n",
    "    newRandomNumbers = unique(shitList)\n",
    "    RnList.append(len(newRandomNumbers))\n",
    "\n",
    "print(f\"E[Rn]/n = {(sum(RnList)/len(RnList))/100} = P[never returns to 0]\")\n",
    "print()\n",
    "print(\"n=100 movings  (movings ~ N(5, 1))\")"
   ]
  },
  {
   "cell_type": "markdown",
   "metadata": {},
   "source": [
    "Part4:"
   ]
  },
  {
   "cell_type": "code",
   "execution_count": 280,
   "metadata": {},
   "outputs": [
    {
     "name": "stdout",
     "output_type": "stream",
     "text": [
      "E[Rn]/n = 1.0 = P[never returns to 0]\n",
      "\n",
      "n=100 movings  (movings ~ N(2, 5))\n"
     ]
    }
   ],
   "source": [
    "import numpy as np\n",
    "\n",
    "RnList = []\n",
    "shitList = []\n",
    "currentLocation = 0\n",
    "\n",
    "def unique(list1):\n",
    "    unique_list = []\n",
    "    for x in list1:\n",
    "        if x not in unique_list:\n",
    "            unique_list.append(x)\n",
    "    return unique_list\n",
    "\n",
    "for i in range(0, 100):\n",
    "    currentLocation = 0\n",
    "    randomNumbers = np.random.normal(2, 5, i)\n",
    "    currentLocation += sum(randomNumbers)\n",
    "    shitList.append(currentLocation)\n",
    "\n",
    "for i in range(0, 100):\n",
    "    newRandomNumbers = unique(shitList)\n",
    "    RnList.append(len(newRandomNumbers))\n",
    "\n",
    "print(f\"E[Rn]/n = {(sum(RnList)/len(RnList))/100} = P[never returns to 0]\")\n",
    "print()\n",
    "print(\"n=100 movings  (movings ~ N(2, 5))\")"
   ]
  }
 ],
 "metadata": {
  "kernelspec": {
   "display_name": "Python 3",
   "language": "python",
   "name": "python3"
  },
  "language_info": {
   "codemirror_mode": {
    "name": "ipython",
    "version": 3
   },
   "file_extension": ".py",
   "mimetype": "text/x-python",
   "name": "python",
   "nbconvert_exporter": "python",
   "pygments_lexer": "ipython3",
   "version": "3.12.1"
  }
 },
 "nbformat": 4,
 "nbformat_minor": 2
}
