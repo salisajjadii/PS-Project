{
 "cells": [
  {
   "cell_type": "markdown",
   "metadata": {},
   "source": [
    "# Project - Statistics and Probability"
   ]
  },
  {
   "cell_type": "markdown",
   "metadata": {},
   "source": [
    "### Instructor: Dr. Yassaee"
   ]
  },
  {
   "cell_type": "markdown",
   "metadata": {},
   "source": [
    "### Seyed Ali Sajjadi - 401101813\n",
    "\n",
    "### Mahdi Gholizade kalan - 401102337"
   ]
  },
  {
   "cell_type": "markdown",
   "metadata": {},
   "source": [
    "Simulation Question 19:"
   ]
  },
  {
   "cell_type": "markdown",
   "metadata": {},
   "source": [
    "Q16 code - Part1:"
   ]
  },
  {
   "cell_type": "code",
   "execution_count": 80,
   "metadata": {},
   "outputs": [
    {
     "name": "stdout",
     "output_type": "stream",
     "text": [
      "He starts from [0, 0]...\n",
      "He returns to [0, 0] for 1 times...\n",
      "P[returns to [0, 0]] = 0.001\n"
     ]
    }
   ],
   "source": [
    "import random\n",
    "\n",
    "count = 0\n",
    "cLoc = [0, 0]\n",
    "mList = [[1, 0], [-1, 0], [0, 1], [0, -1]]\n",
    "N = 1000\n",
    "n = 100\n",
    "\n",
    "for j in range(0, N):\n",
    "    for i in range(0, n):\n",
    "        cLoc = [x + y for x, y in zip(cLoc, random.choice(mList))]\n",
    "        if cLoc == [0, 0]:\n",
    "            count += 1\n",
    "            break\n",
    "\n",
    "print('He starts from [0, 0]...')\n",
    "print(f'He returns to [0, 0] for {count} times...')\n",
    "print(f'P[returns to [0, 0]] = {count/N}')"
   ]
  },
  {
   "cell_type": "markdown",
   "metadata": {},
   "source": [
    "Q16 code - Part2:"
   ]
  },
  {
   "cell_type": "code",
   "execution_count": 65,
   "metadata": {},
   "outputs": [
    {
     "name": "stdout",
     "output_type": "stream",
     "text": [
      "He starts from [0, 0]...\n",
      "He returns to [0, 0] for 1 times...\n",
      "P[returns to [0, 0]] = 0.001\n"
     ]
    }
   ],
   "source": [
    "import random\n",
    "\n",
    "count = 0\n",
    "cLoc = [0, 0]\n",
    "mList = [[1, 1], [-1, 1], [1, -1], [-1, -1]]\n",
    "N = 1000\n",
    "n = 100\n",
    "\n",
    "for j in range(0, N):\n",
    "    for i in range(0, n):\n",
    "        cLoc = [x + y for x, y in zip(cLoc, random.choice(mList))]\n",
    "        if cLoc == [0, 0]:\n",
    "            count += 1\n",
    "            break\n",
    "\n",
    "print('He starts from [0, 0]...')\n",
    "print(f'He returns to [0, 0] for {count} times...')\n",
    "print(f'P[returns to [0, 0]] = {count/N}')"
   ]
  },
  {
   "cell_type": "markdown",
   "metadata": {},
   "source": [
    "Q18 code:"
   ]
  },
  {
   "cell_type": "code",
   "execution_count": 91,
   "metadata": {},
   "outputs": [
    {
     "name": "stdout",
     "output_type": "stream",
     "text": [
      "He starts from [0, 0, 0]...\n",
      "\n",
      "He returns to [0, 0, 0] for 1 times...\n",
      "P[returns to [0, 0, 0]] = 0.001\n"
     ]
    }
   ],
   "source": [
    "import random\n",
    "\n",
    "count = 0\n",
    "cLoc = [0, 0, 0]\n",
    "mList = [[1, 1, 4], [-1, 1, 1], [1, -1, 1], [-1, -1, 1], [1, 1, -1], [-1, 1, -1], [1, -1, -1], [-1, -1, -1]]\n",
    "N = 1000\n",
    "n = 100\n",
    "\n",
    "for j in range(0, N):\n",
    "    for i in range(0, n):\n",
    "        dx, dy, dz = random.choice(mList)\n",
    "        cLoc = [cLoc[j] + d for j, d in enumerate([dx, dy, dz])]\n",
    "        if cLoc == [0, 0, 0]:\n",
    "            count += 1\n",
    "            break\n",
    "\n",
    "print('He starts from [0, 0, 0]...')\n",
    "print()\n",
    "print(f'He returns to [0, 0, 0] for {count} times...')\n",
    "print(f'P[returns to [0, 0, 0]] = {count/N}')\n"
   ]
  },
  {
   "cell_type": "markdown",
   "metadata": {},
   "source": [
    "Q19: According to simulations Q16 and Q18, the probability of returning to the origin of movement in two-dimensional and three-dimensional space is the same value.\n",
    "\n",
    "P[returns to [0, 0] in 2D space] = P[returns to [0, 0, 0] in 3D space]"
   ]
  }
 ],
 "metadata": {
  "kernelspec": {
   "display_name": "Python 3",
   "language": "python",
   "name": "python3"
  },
  "language_info": {
   "codemirror_mode": {
    "name": "ipython",
    "version": 3
   },
   "file_extension": ".py",
   "mimetype": "text/x-python",
   "name": "python",
   "nbconvert_exporter": "python",
   "pygments_lexer": "ipython3",
   "version": "3.12.1"
  }
 },
 "nbformat": 4,
 "nbformat_minor": 2
}
