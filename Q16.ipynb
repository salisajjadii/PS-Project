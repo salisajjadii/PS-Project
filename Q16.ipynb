{
 "cells": [
  {
   "cell_type": "markdown",
   "metadata": {},
   "source": [
    "# Project - Statistics and Probability"
   ]
  },
  {
   "cell_type": "markdown",
   "metadata": {},
   "source": [
    "### Instructor: Dr. Yassaee"
   ]
  },
  {
   "cell_type": "markdown",
   "metadata": {},
   "source": [
    "### Seyed Ali Sajjadi - 401101813\n",
    "\n",
    "### Mahdi Gholizade kalan - 401102337"
   ]
  },
  {
   "cell_type": "markdown",
   "metadata": {},
   "source": [
    "Simulation Question 16:"
   ]
  },
  {
   "cell_type": "markdown",
   "metadata": {},
   "source": [
    "Part1:"
   ]
  },
  {
   "cell_type": "code",
   "execution_count": 17,
   "metadata": {},
   "outputs": [
    {
     "name": "stdout",
     "output_type": "stream",
     "text": [
      "He starts from [0, 0]...\n",
      "He returns to [0, 0] for 11 times...\n",
      "P[returns to [0, 0]] = 0.011\n"
     ]
    }
   ],
   "source": [
    "import random\n",
    "\n",
    "count = 0\n",
    "cLoc = [0, 0]\n",
    "mList = [[1, 0], [-1, 0], [0, 1], [0, -1]]\n",
    "N = 1000\n",
    "n = 1000\n",
    "\n",
    "for j in range(0, N):\n",
    "    for i in range(0, n):\n",
    "        cLoc = [x + y for x, y in zip(cLoc, random.choice(mList))]\n",
    "        if cLoc == [0, 0]:\n",
    "            count += 1\n",
    "            break\n",
    "\n",
    "print('He starts from [0, 0]...')\n",
    "print(f'He returns to [0, 0] for {count} times...')\n",
    "print(f'P[returns to [0, 0]] = {count/N}')"
   ]
  },
  {
   "cell_type": "markdown",
   "metadata": {},
   "source": [
    "Part2:"
   ]
  },
  {
   "cell_type": "code",
   "execution_count": 19,
   "metadata": {},
   "outputs": [
    {
     "name": "stdout",
     "output_type": "stream",
     "text": [
      "He starts from [0, 0]...\n",
      "He returns to [0, 0] for 2 times...\n",
      "P[returns to [0, 0]] = 0.002\n"
     ]
    }
   ],
   "source": [
    "import random\n",
    "\n",
    "count = 0\n",
    "cLoc = [0, 0]\n",
    "mList = [[1, 1], [-1, 1], [1, -1], [-1, -1]]\n",
    "N = 1000\n",
    "n = 1000\n",
    "\n",
    "for j in range(0, N):\n",
    "    for i in range(0, n):\n",
    "        cLoc = [x + y for x, y in zip(cLoc, random.choice(mList))]\n",
    "        if cLoc == [0, 0]:\n",
    "            count += 1\n",
    "            break\n",
    "\n",
    "print('He starts from [0, 0]...')\n",
    "print(f'He returns to [0, 0] for {count} times...')\n",
    "print(f'P[returns to [0, 0]] = {count/N}')"
   ]
  }
 ],
 "metadata": {
  "kernelspec": {
   "display_name": "Python 3",
   "language": "python",
   "name": "python3"
  },
  "language_info": {
   "codemirror_mode": {
    "name": "ipython",
    "version": 3
   },
   "file_extension": ".py",
   "mimetype": "text/x-python",
   "name": "python",
   "nbconvert_exporter": "python",
   "pygments_lexer": "ipython3",
   "version": "3.12.1"
  }
 },
 "nbformat": 4,
 "nbformat_minor": 2
}
